{
 "cells": [
  {
   "cell_type": "markdown",
   "metadata": {},
   "source": [
    "Avtor: Gregor Podpečan,  Vpisna številka: 23150289\n",
    "\n",
    "Datum: 18.01.2020\n",
    "\n",
    "Potrjujem, da sem avtor projektne naloge in da sem vso vsebino pripravil sam. V primeru, da se ugotovi plagiatorstvo se       zavedam,da ne bom izpolnjeval pogojev za pristop k izpitu."
   ]
  },
  {
   "cell_type": "markdown",
   "metadata": {
    "toc": true
   },
   "source": [
    "<h1>Kazalo<span class=\"tocSkip\"></span></h1>\n",
    "<div class=\"toc\"><ul class=\"toc-item\"><li><span><a href=\"#Definicija-naloge\" data-toc-modified-id=\"Definicija-naloge-1\"><span class=\"toc-item-num\">1&nbsp;&nbsp;</span>Definicija naloge</a></span></li><li><span><a href=\"#Analiza-meta-z-zračnim-uporom.\" data-toc-modified-id=\"Analiza-meta-z-zračnim-uporom.-2\"><span class=\"toc-item-num\">2&nbsp;&nbsp;</span>Analiza meta z zračnim uporom.</a></span><ul class=\"toc-item\"><li><span><a href=\"#Definicija-enačb\" data-toc-modified-id=\"Definicija-enačb-2.1\"><span class=\"toc-item-num\">2.1&nbsp;&nbsp;</span>Definicija enačb</a></span></li><li><span><a href=\"#Numerična-analiza-in-reševanje-differencialnih-enačb\" data-toc-modified-id=\"Numerična-analiza-in-reševanje-differencialnih-enačb-2.2\"><span class=\"toc-item-num\">2.2&nbsp;&nbsp;</span>Numerična analiza in reševanje differencialnih enačb</a></span></li></ul></li><li><span><a href=\"#Simbolno-reševanje\" data-toc-modified-id=\"Simbolno-reševanje-3\"><span class=\"toc-item-num\">3&nbsp;&nbsp;</span>Simbolno reševanje</a></span><ul class=\"toc-item\"><li><span><a href=\"#Simbolni-izračun-sile-upora\" data-toc-modified-id=\"Simbolni-izračun-sile-upora-3.1\"><span class=\"toc-item-num\">3.1&nbsp;&nbsp;</span>Simbolni izračun sile upora</a></span></li></ul></li><li><span><a href=\"#Interpolacija\" data-toc-modified-id=\"Interpolacija-4\"><span class=\"toc-item-num\">4&nbsp;&nbsp;</span>Interpolacija</a></span></li><li><span><a href=\"#Izračun-ničle-funkcije\" data-toc-modified-id=\"Izračun-ničle-funkcije-5\"><span class=\"toc-item-num\">5&nbsp;&nbsp;</span>Izračun ničle funkcije</a></span></li><li><span><a href=\"#Odvajanje\" data-toc-modified-id=\"Odvajanje-6\"><span class=\"toc-item-num\">6&nbsp;&nbsp;</span>Odvajanje</a></span></li><li><span><a href=\"#Sistem-linearnih-enacb\" data-toc-modified-id=\"Sistem-linearnih-enacb-7\"><span class=\"toc-item-num\">7&nbsp;&nbsp;</span>Sistem linearnih enacb</a></span></li><li><span><a href=\"#Dodatki-projektni-nalogi\" data-toc-modified-id=\"Dodatki-projektni-nalogi-8\"><span class=\"toc-item-num\">8&nbsp;&nbsp;</span>Dodatki projektni nalogi</a></span><ul class=\"toc-item\"><li><span><a href=\"#Aproximacija\" data-toc-modified-id=\"Aproximacija-8.1\"><span class=\"toc-item-num\">8.1&nbsp;&nbsp;</span>Aproximacija</a></span></li><li><span><a href=\"#Uporabniški-vmesnik\" data-toc-modified-id=\"Uporabniški-vmesnik-8.2\"><span class=\"toc-item-num\">8.2&nbsp;&nbsp;</span>Uporabniški vmesnik</a></span></li></ul></li></ul></div>"
   ]
  },
  {
   "cell_type": "markdown",
   "metadata": {},
   "source": [
    "Za pisanje enačb v latex obliki sem si pomagal z:\n",
    "\n",
    "<a href=\"https://www.codecogs.com/latex/eqneditor.php\">Editor latex</a>"
   ]
  },
  {
   "cell_type": "markdown",
   "metadata": {},
   "source": [
    "# Definicija naloge\n",
    "\n",
    "Za projekt pri numeričnih metodah sem si izbral gibanje izstreljene žogice z upoštevanjem upora zraka. Ideja se mi je zdela\n",
    "primerna saj smo z silami, ki delujejo v tem primeru v stiku vsak dan. Priložena slika ponazarja pot izstrelka."
   ]
  },
  {
   "cell_type": "markdown",
   "metadata": {},
   "source": [
    "<img src=\"Slika.jpg\" style = \"width:600px;height:400px\"/> \n",
    "\n",
    "Vir:https://www.quora.com/While-considering-the-projectile-motion-the-effect-of-air-resistance-is-usually-ignored-If-however-air-resistance-is-not-ignored-what-is-its-effect-on-the-path-of-the-projectile (18.01.2020)"
   ]
  },
  {
   "cell_type": "markdown",
   "metadata": {},
   "source": [
    "Namen individualnega seminarja je prikazati ustrezno izbiro in uporabo numeričnih metod, komentirati njihovo delovanje in ovrednotiti dobljene rezultate. Reševanje našega fizikalnega problema mora zajemati sledeča poglavja:\n",
    "* Simbolno reševanje\n",
    "* Sistemi linearnih enačb\n",
    "* Interpolacija ali aproksimacija\n",
    "* Iskanje ničel\n",
    "* Integriranje ali odvajanje\n",
    "* Reševanje diferencialnih enačb"
   ]
  },
  {
   "cell_type": "markdown",
   "metadata": {},
   "source": [
    "# Analiza meta z zračnim uporom.\n",
    "\n",
    "Definicija osnovnih enačb za analizo."
   ]
  },
  {
   "cell_type": "code",
   "execution_count": 1,
   "metadata": {},
   "outputs": [],
   "source": [
    "%matplotlib inline\n",
    "%matplotlib notebook\n",
    "\n",
    "from math import pi, cos, sin, tan\n",
    "import matplotlib\n",
    "import sympy as sym\n",
    "import numpy as np\n",
    "import matplotlib.pyplot as plt"
   ]
  },
  {
   "cell_type": "markdown",
   "metadata": {},
   "source": [
    "## Definicija enačb"
   ]
  },
  {
   "cell_type": "markdown",
   "metadata": {
    "hide_input": true
   },
   "source": [
    "\n",
    "$$F_{upora} = ma_{upora} = \\frac{1}{2}c_v\\rho v^2S = \\frac{1}{2}c_v\\rho_z v^2 \\pi r^2$$\n",
    "\n",
    "$$F_{teze} = mg$$\n",
    "\n",
    "$ $\n",
    "$$F_{y} = F_{teze} + F_{upora_y}$$\n",
    "$ $\n",
    "$$F_{x} = F_{upora_x}$$"
   ]
  },
  {
   "cell_type": "markdown",
   "metadata": {},
   "source": [
    "Zapišemo diferencialne enačbe iz zgoraj definiranih enačb katere bodo osnova za reševanje v nadaljevanju.\n",
    "\n",
    "$$m\\frac{d^2y}{dt^2} = - mg - \\frac{1}{2}c_v\\rho_z \\left(\\frac{dy}{dt}\\right)^2 \\pi r^2$$\n",
    "$$m\\frac{d^2x}{dt^2} = - \\frac{1}{2}c_v\\rho_z \\left(\\frac{dx}{dt}\\right)^2 \\pi r^2$$"
   ]
  },
  {
   "cell_type": "markdown",
   "metadata": {},
   "source": [
    " Pri čemer naslednji spisek pojasnjuje obstoj simbolov v zgornjih enačbah.\n",
    "* $m$ = skupna masa zoge $(0.4kg)$\n",
    "* $g$ = gravitacijski pospesek $\\left(9.81 m/s^2\\right)$\n",
    "* $\\rho_z$ = gostota zraka $\\left(1.2 kg/m^3\\right)$\n",
    "* $r$ = radij zoge $(0.1m)$\n",
    "* $c_v$ = sferni koelificijent upora $(0.47)$"
   ]
  },
  {
   "cell_type": "markdown",
   "metadata": {},
   "source": [
    "##  Numerična analiza in reševanje differencialnih enačb"
   ]
  },
  {
   "cell_type": "markdown",
   "metadata": {},
   "source": [
    "Za reševanje diferencialnih enačb bi lahko uporabili solve_ivp vendar je funkcija dokaj enostavna (brez visokih diferencialov). \n",
    "Zato sem k reševanju diferencialnih enačb pristopil iterativno."
   ]
  },
  {
   "cell_type": "code",
   "execution_count": 2,
   "metadata": {},
   "outputs": [],
   "source": [
    "m = 0.4\n",
    "g = 9.81\n",
    "r = 0.1\n",
    "Cv = 0.47\n",
    "rho = 1.2\n",
    "pi = 3.146\n",
    "\n",
    "def upor(v): #Zaviralni pospesek vetra\n",
    "    return (- 1/2 * Cv * rho * v**2 * pi * r**2)/m\n",
    "\n",
    "# Definicija zacetnih pogojev\n",
    "vx0 = 1300\n",
    "vy0 = 20\n",
    "x0 = 0\n",
    "y0 = 0\n",
    "\n",
    "# Definicija koraka\n",
    "dt = 0.01\n",
    "\n",
    "def simulacija_meta(dt, vx0, vy0, x0, y0):\n",
    "    '''\n",
    "    Izračun diferencialne enačbe leta izstrelka z upoštevanjem zračnega upora.\n",
    "    Funkcija vrne vrednosti x in y koordinat izstrelka med letom vektorja hitrosti v smeri x in y ter časovne vrednosti \n",
    "    pri koraku dt. Reševanje diferencialne enačbe zaključimo, ko je višina izstrelka negativna.\n",
    "    \n",
    "    Argumenti:\n",
    "    \n",
    "    dt:  korak časa, ki ga iteracija uporabi za nov izračun\n",
    "    vx0: začetna hitrost v x smeri\n",
    "    vy0: začetna hitrost v y smeri\n",
    "    x0:  začetna vrednost x (začnemo v izhodišču koordinatnega sistema)\n",
    "    y0:  začetna vrednost y (začnemo v izhodišču koordinatnega sistema)\n",
    "    \n",
    "    \n",
    "    '''\n",
    "    \n",
    "    # Lista izracunov\n",
    "    vx = [vx0]\n",
    "    vy = [vy0]\n",
    "    x = [x0]\n",
    "    y = [y0]\n",
    "    t = [0]\n",
    "    \n",
    "    # Numericno resevanje\n",
    "    while True:\n",
    "        alfa = tan(vy[-1]/vx[-1]) # Naklon smeri hitrosti\n",
    "        v = (vx[-1]**2 + vy[-1]**2)**0.5 # Vsota vektorja hitrosti\n",
    "        u = upor(v) # Izracun upora vetra\n",
    "        uX = u*cos(alfa) # Upor po x\n",
    "        uY = u*sin(alfa) # Upor po y\n",
    "        vx.append(vx[-1] + uX*dt) # Izracun nove hitrosti vetra po x\n",
    "        vy.append(vy[-1] -g*dt + uY*dt) # Izracun nove hitrosti vetra po y\n",
    "        x.append(x[-1] + vx[-1]*dt) # Izracun novih kordinat\n",
    "        y.append(y[-1] + vy[-1]*dt) # Izracun novih kordinat\n",
    "        t.append(t[-1]+dt)\n",
    "        if y[-1]<0:\n",
    "            return t, x, y, vx, vy\n",
    "\n",
    "tN, x, y, vxN,vyN = simulacija_meta(dt, vx0, vy0, x0, y0)"
   ]
  },
  {
   "cell_type": "code",
   "execution_count": 3,
   "metadata": {
    "scrolled": false
   },
   "outputs": [
    {
     "data": {
      "image/png": "[encoded data removed]",
      "text/plain": [
       "<Figure size 936x504 with 1 Axes>"
      ]
     },
     "metadata": {
      "needs_background": "light"
     },
     "output_type": "display_data"
    }
   ],
   "source": [
    "# Izrišemo graf\n",
    "\n",
    "plt.figure(figsize=(13,7))\n",
    "plt.plot(x, y, linestyle='--', marker='o')\n",
    "plt.xlabel('x (m)')\n",
    "plt.ylabel('y (m)')\n",
    "plt.title('Analiza meta po x/y kordinati')\n",
    "plt.grid()\n",
    "plt.show()"
   ]
  },
  {
   "cell_type": "markdown",
   "metadata": {},
   "source": [
    "Zgoraj je prikazana pot izstrelka (žoge), ki smo jo dobili z iterativnim računanjem diferecialnih enačb. Vidimo, da žogo izstrelimo pod kotom 45 stopinj."
   ]
  },
  {
   "cell_type": "markdown",
   "metadata": {},
   "source": [
    "#  Simbolno reševanje"
   ]
  },
  {
   "cell_type": "markdown",
   "metadata": {},
   "source": [
    "Termin simbolno računanje pomeni, da matematične izraze rešujemo strojno v obliki abstraktnih simbolov (in ne numerično). Strojno simbolno računanje nam pomaga kadar nas zanima rezultat v simbolni obliki in so izrazi preobsežni za klasično reševanje na list in papir. K strojnemu reševanju se zatečemo tudi zaradi zmanjšanja možnosti napake (pri obsežnih izračunih se ljudje lahko zmotimo).\n",
    "\n",
    "prof.dr. Slavič, Janko.*Programiranje in numerične metode v ekosistemu Python* Ljubljana, 2020"
   ]
  },
  {
   "cell_type": "code",
   "execution_count": 4,
   "metadata": {
    "hide_input": false
   },
   "outputs": [
    {
     "data": {
      "image/png": "[encoded data removed]",
      "text/latex": [
       "$$\\left \\{ A_{1} : 0.4, \\quad A_{2} : -3.9240000000000004, \\quad A_{3} : -0.00887172\\right \\}$$"
      ],
      "text/plain": [
       "{A₁: 0.4, A₂: -3.9240000000000004, A₃: -0.00887172}"
      ]
     },
     "metadata": {},
     "output_type": "display_data"
    }
   ],
   "source": [
    "# Definiramo parametre\n",
    "\n",
    "sym.init_printing()\n",
    "\n",
    "A1, A2, A3, t = sym.symbols(\"A_1, A_2, A_3, t\")\n",
    "\n",
    "m = 0.4       # Masa izstrelka [kg]\n",
    "g = 9.81      # Gravitacijski pospešek [m/s^2]\n",
    "rho = 1.2     # Gostota zraka [kg/m^3]\n",
    "r = 0.1       # Polmer žogice (izstrelka) [m]\n",
    "Cv = 0.47     # Koeficient upora krogle (izstrelka) [/]\n",
    "PI = 3.146    # Vrednost pi\n",
    "alpha = PI/4  # Kot pod katerim izstrelimo izstrelek \n",
    "v_0 = 10      # Začetna hitrost\n",
    "\n",
    "vx = v_0 * cos(alpha) # Hitrost v x smeri\n",
    "vy = v_0 * sin(alpha) # Hitrost v y smeri\n",
    "\n",
    "parametri_sym = {\n",
    "    A1: m,\n",
    "    A2: -m*g,\n",
    "    A3: - (1/2) * Cv * rho * PI * r**2\n",
    "}\n",
    "\n",
    "display(parametri_sym)"
   ]
  },
  {
   "cell_type": "code",
   "execution_count": 5,
   "metadata": {},
   "outputs": [
    {
     "data": {
      "image/png": "[encoded data removed]",
      "text/latex": [
       "$$A_{1} \\frac{d^{2}}{d t^{2}}  x{\\left (t \\right )} = A_{3} \\left(\\frac{d}{d t} x{\\left (t \\right )}\\right)^{2}$$"
      ],
      "text/plain": [
       "     2                      2\n",
       "    d             ⎛d       ⎞ \n",
       "A₁⋅───(x(t)) = A₃⋅⎜──(x(t))⎟ \n",
       "     2            ⎝dt      ⎠ \n",
       "   dt                        "
      ]
     },
     "execution_count": 5,
     "metadata": {},
     "output_type": "execute_result"
    }
   ],
   "source": [
    "#Pripravimo diferencialno enačbo (x)\n",
    "\n",
    "x_f = sym.Function('x')\n",
    "\n",
    "x_diff_enacba = sym.Eq(A1*x_f(t).diff(t, 2), A3 * x_f(t).diff(t, 1)**2)\n",
    "\n",
    "x_diff_enacba"
   ]
  },
  {
   "cell_type": "code",
   "execution_count": 6,
   "metadata": {},
   "outputs": [
    {
     "data": {
      "image/png": "[encoded data removed]",
      "text/latex": [
       "$$A_{1} \\frac{d^{2}}{d t^{2}}  y{\\left (t \\right )} = A_{2} + A_{3} \\left(\\frac{d}{d t} y{\\left (t \\right )}\\right)^{2}$$"
      ],
      "text/plain": [
       "     2                           2\n",
       "    d                  ⎛d       ⎞ \n",
       "A₁⋅───(y(t)) = A₂ + A₃⋅⎜──(y(t))⎟ \n",
       "     2                 ⎝dt      ⎠ \n",
       "   dt                             "
      ]
     },
     "execution_count": 6,
     "metadata": {},
     "output_type": "execute_result"
    }
   ],
   "source": [
    "# Pripravimo diferencialno enačbo (y)\n",
    "\n",
    "y_f = sym.Function('y')\n",
    "\n",
    "y_diff_enacba = sym.Eq(A1*y_f(t).diff(t, 2), A2 + A3 * y_f(t).diff(t, 1)**2)\n",
    "\n",
    "y_diff_enacba"
   ]
  },
  {
   "cell_type": "code",
   "execution_count": 7,
   "metadata": {},
   "outputs": [
    {
     "data": {
      "text/latex": [
       "$$\\left [ x{\\left (t \\right )} = \\frac{A_{1}}{A_{3}} \\log{\\left (\\frac{A_{1}}{A_{3} \\left(C_{1} + C_{2} t\\right)} \\right )}, \\quad x{\\left (t \\right )} = \\begin{cases} C_{1} t + C_{2} & \\text{for}\\: A_{3} = 0 \\\\\\mathrm{NaN} & \\text{otherwise} \\end{cases}\\right ]$$"
      ],
      "text/plain": [
       "⎡             ⎛      A₁      ⎞                               ⎤\n",
       "⎢       A₁⋅log⎜──────────────⎟                               ⎥\n",
       "⎢             ⎝A₃⋅(C₁ + C₂⋅t)⎠         ⎧C₁⋅t + C₂  for A₃ = 0⎥\n",
       "⎢x(t) = ──────────────────────, x(t) = ⎨                     ⎥\n",
       "⎣                 A₃                   ⎩   nan     otherwise ⎦"
      ]
     },
     "metadata": {},
     "output_type": "display_data"
    }
   ],
   "source": [
    "# Rešimo diferencialno enačbo (x)\n",
    "\n",
    "x_diff_resitev = sym.dsolve(x_diff_enacba, x_f(t))\n",
    "display(x_diff_resitev)"
   ]
  },
  {
   "cell_type": "markdown",
   "metadata": {},
   "source": [
    "Simbolično bi diferencialno enačbo po y-u rešili z napisanim spodaj.\n",
    "Komentar: Ko sem projektno delal doma na PC-ju je delalo normalno, ko pa sem jo pisal v Ljubljani na laptopu pa kode ni izvršilo\n",
    "zato sem jo dodal ko komentar."
   ]
  },
  {
   "cell_type": "code",
   "execution_count": 8,
   "metadata": {},
   "outputs": [],
   "source": [
    "#y_diff_resitev = sym.dsolve(y_diff_enacba, y_f(t)) \n",
    "#display(y_diff_resitev)"
   ]
  },
  {
   "cell_type": "markdown",
   "metadata": {},
   "source": [
    "##  Simbolni izračun sile upora"
   ]
  },
  {
   "cell_type": "markdown",
   "metadata": {},
   "source": [
    "Zanima nas sila upora, ki deluje na žogo med letom oziroma pri začetni hitrosti, saj vemo, \n",
    "da se hitrost žoge med letom zmanjšuje.\n",
    "* $m$ = skupna masa zoge $(0.4kg)$\n",
    "* $\\rho_z$ = gostota zraka $\\left(1.2 kg/m^3\\right)$\n",
    "* $r$ = radij zoge $(0.1m)$\n",
    "* $c_v$ = sferni koeficient upora $(0.47)$\n",
    "* $v_0$ = začetna hitrost zoge $(1300 )$ #Še enote"
   ]
  },
  {
   "cell_type": "markdown",
   "metadata": {},
   "source": [
    "Enačbaza presek žoge\n",
    "$$S = \\pi r^2$$\n",
    "\n",
    "Enačba za silo upora žoge\n",
    "$$F_{upora} = ma_{upora} = \\frac{1}{2}c_v\\rho v^2S = \\frac{1}{2}c_v\\rho_z v^2 \\pi r^2$$"
   ]
  },
  {
   "cell_type": "code",
   "execution_count": 9,
   "metadata": {},
   "outputs": [
    {
     "data": {
      "image/png": "[encoded data removed]",
      "text/latex": [
       "$$F = 0.5 \\pi Cv r^{2} \\rho v_{0}^{2}$$"
      ],
      "text/plain": [
       "              2     2\n",
       "F = 0.5⋅π⋅Cv⋅r ⋅ρ⋅v₀ "
      ]
     },
     "execution_count": 9,
     "metadata": {},
     "output_type": "execute_result"
    }
   ],
   "source": [
    "# Z uporabo simbolnega računanja pripravimo enačbo za silo upora.\n",
    "from sympy.abc import rho\n",
    "F, Cv, rho, v_0 , pi, r = sym.symbols(\"F, Cv, rho, v_0 , pi, r\")\n",
    "sila_upora = sym.Eq(F,1/2 * Cv * rho * v_0**2 * sym.pi * r**2)\n",
    "sila_upora"
   ]
  },
  {
   "cell_type": "code",
   "execution_count": 10,
   "metadata": {},
   "outputs": [
    {
     "data": {
      "image/png": "[encoded data removed]",
      "text/latex": [
       "$$F = 0.88593$$"
      ],
      "text/plain": [
       "F = 0.88593"
      ]
     },
     "metadata": {},
     "output_type": "display_data"
    }
   ],
   "source": [
    "#Izračunamo silo upora.\n",
    "parametri = {Cv : 0.47, rho : 1.2, v_0 : 10, r : 0.1}\n",
    "sila_upora_res = sila_upora.subs(parametri).evalf(n=5)\n",
    "display(sila_upora_res)"
   ]
  },
  {
   "cell_type": "markdown",
   "metadata": {},
   "source": [
    "#  Interpolacija"
   ]
  },
  {
   "cell_type": "markdown",
   "metadata": {},
   "source": [
    "Pri interpolaciji izhajamo iz tabele različnih vrednosti, določiti pa želimo vmesne vrednosti. V okviru interpolacije točke\n",
    "povežemo tako, da predpostavimo neko funkcijo in dodamo pogoj, da mora funkcija potekati skozi točke. \n",
    "\n",
    "prof.dr. Slavič, Janko.*Programiranje in numerične metode v ekosistemu Python* Ljubljana, 2020\n"
   ]
  },
  {
   "cell_type": "code",
   "execution_count": 11,
   "metadata": {},
   "outputs": [],
   "source": [
    "from scipy.interpolate import interp1d"
   ]
  },
  {
   "cell_type": "code",
   "execution_count": 12,
   "metadata": {},
   "outputs": [],
   "source": [
    "interpolacija = interp1d(x, y, kind = \"quadratic\", fill_value=\"extrapolate\")"
   ]
  },
  {
   "cell_type": "code",
   "execution_count": 13,
   "metadata": {
    "scrolled": false
   },
   "outputs": [
    {
     "data": {
      "image/png": "[encoded data removed]",
      "text/plain": [
       "<Figure size 936x504 with 1 Axes>"
      ]
     },
     "metadata": {
      "needs_background": "light"
     },
     "output_type": "display_data"
    }
   ],
   "source": [
    "plt.figure(figsize=(13,7))\n",
    "plt.plot(x, y, color='b')\n",
    "plt.scatter(x, interpolacija(x), color = \"r\", marker = \"o\", )\n",
    "plt.xlabel(\"x (m)\")\n",
    "plt.ylabel(\"y (m)\")\n",
    "plt.title(\"Interpolacija\")\n",
    "plt.grid()\n",
    "plt.show()\n"
   ]
  },
  {
   "cell_type": "markdown",
   "metadata": {},
   "source": [
    "#  Izračun ničle funkcije"
   ]
  },
  {
   "cell_type": "markdown",
   "metadata": {},
   "source": [
    "V okviru reševanja enačb obravnavamo poljubno enačbo, ki je odvisna od spremenljivke x in iščemo rešitev: f(x) = 0. Rešitvam enačbe rečemo tudi koreni. Koren enačbe f(x) = 0 je hkrati tudi ničla funkcije y = f(x).Funkcija y = f(x) ima lahko ničle stopnje:\n",
    "\n",
    "* Ničla prve stopnje: Funkcija seka abcisno os pod neničelnim kotom,\n",
    "* Ničla sode stopnje: funkcija se dotika abcisne osi, vendar je ne seka,\n",
    "* Ničla lihe stopnje: funkcija seka abcisno os, pri ničli stopnje 3 in    imamo prevoj(tangenta je vzporedna z abcisno osjo).\n",
    "\n",
    "prof.dr. Slavič, Janko.*Programiranje in numerične metode v ekosistemu Python* Ljubljana, 2020"
   ]
  },
  {
   "cell_type": "code",
   "execution_count": 40,
   "metadata": {},
   "outputs": [
    {
     "name": "stdout",
     "output_type": "stream",
     "text": [
      "---------------------\n",
      "Ničla najdena: 127.8950387122461\n"
     ]
    }
   ],
   "source": [
    "from scipy.optimize import bisect\n",
    "\n",
    "nicla = bisect(interpolacija, 120, 140)\n",
    "\n",
    "print(\"---------------------\")\n",
    "print(f\"Ničla najdena: {nicla}\")"
   ]
  },
  {
   "cell_type": "code",
   "execution_count": 15,
   "metadata": {},
   "outputs": [
    {
     "data": {
      "image/png": "[encoded data removed]",
      "text/plain": [
       "<Figure size 936x504 with 1 Axes>"
      ]
     },
     "metadata": {
      "needs_background": "light"
     },
     "output_type": "display_data"
    }
   ],
   "source": [
    "plt.figure(figsize =(13,7))\n",
    "plt.plot(x, interpolacija(x), color = \"c\", marker = \"o\", label = \"pot izstrelka\")\n",
    "plt.plot(nicla, 0, color = \"r\", marker = \"o\", label = \"ničla funkcije\")\n",
    "plt.xlabel(\"x (m)\")\n",
    "plt.ylabel(\"y (m)\")\n",
    "plt.title(\"Interpolacija\")\n",
    "plt.legend()\n",
    "plt.grid()\n",
    "plt.axhline(0, color = \"b\")\n",
    "plt.show()"
   ]
  },
  {
   "cell_type": "markdown",
   "metadata": {},
   "source": [
    "# Odvajanje"
   ]
  },
  {
   "cell_type": "markdown",
   "metadata": {},
   "source": [
    "V okviru tega poglavja bomo za dano funkcijo $v_x$, $v_y$ izračunali pospešek preko gradienta teh funkcij:\n",
    "\n",
    "$$ a_{x} = \\frac{d}{dt}v_x(t)$$\n",
    "$ $\n",
    "$$ a_{y} = \\frac{d}{dt}v_y(t)$$\n",
    "$ $\n",
    "$$ a = \\sqrt{\\left( a_{x}^2 + a_{y}^2 \\right)}$$\n",
    "    \n"
   ]
  },
  {
   "cell_type": "code",
   "execution_count": 16,
   "metadata": {},
   "outputs": [
    {
     "data": {
      "image/png": "[encoded data removed]",
      "text/plain": [
       "<Figure size 936x504 with 1 Axes>"
      ]
     },
     "metadata": {
      "needs_background": "light"
     },
     "output_type": "display_data"
    }
   ],
   "source": [
    "x_pospesek = np.gradient(vxN, tN)\n",
    "y_pospesek = np.gradient(vyN, tN)\n",
    "\n",
    "plt.figure(figsize=(13,7))\n",
    "plt.plot(tN, x_pospesek, label=\"Pospesek x\")\n",
    "plt.plot(tN, y_pospesek, label=\"Pospesek y\")\n",
    "plt.title('Analiza pospeska po kordinatah x y')\n",
    "plt.ylabel('pospesek (m/s^2)')\n",
    "plt.xlabel('t (s)')\n",
    "plt.grid()\n",
    "plt.legend()\n",
    "plt.show()"
   ]
  },
  {
   "cell_type": "code",
   "execution_count": 17,
   "metadata": {},
   "outputs": [
    {
     "data": {
      "image/png": "[encoded data removed]",
      "text/plain": [
       "<Figure size 936x504 with 1 Axes>"
      ]
     },
     "metadata": {
      "needs_background": "light"
     },
     "output_type": "display_data"
    }
   ],
   "source": [
    "pospesek = (x_pospesek**2 + y_pospesek**2)**(1/2)\n",
    "\n",
    "plt.figure(figsize=(13,7))\n",
    "plt.plot(tN, pospesek, label=\"Pospesek\")\n",
    "plt.title('Analiza pospeska izstrelka')\n",
    "plt.ylabel('pospesek (m/s^2)')\n",
    "plt.xlabel('t (s)')\n",
    "plt.grid()\n",
    "plt.legend()\n",
    "plt.show()"
   ]
  },
  {
   "cell_type": "markdown",
   "metadata": {},
   "source": [
    "Pospešek je največji na začetku saj izstrelimo žogo. Zaradi velike hitrosti v začetnih trenutkih deluje tudi največja sila upora zraka. Zaradi tega se pospešek hitro zmanjša."
   ]
  },
  {
   "cell_type": "markdown",
   "metadata": {},
   "source": [
    "# Sistem linearnih enacb\n",
    "\n"
   ]
  },
  {
   "cell_type": "markdown",
   "metadata": {},
   "source": [
    "Sistem enačb lahko zapišemo tudi v matrični obliki:\n",
    "\n",
    "$$ Ax = b$$\n",
    "\n",
    "kjer sta A in b znana matrika in vektor, vektor x pa ni znan. Matriko A imenujemo matrika koeficientov, vektor b imenujemo vektor konstant in vektor x vektor neznank.\n",
    "\n",
    "\n",
    "prof.dr. Slavič, Janko.*Programiranje in numerične metode v ekosistemu Python* Ljubljana, 2020\n"
   ]
  },
  {
   "cell_type": "markdown",
   "metadata": {},
   "source": [
    "Z uporabo sistema linearnih enačb bom iskal hitrost v najvišji točki meta, nato pa jo bom primerjal z izračunano vrednostjo, ki sem jo pridobil z iterativnim izračunom diferencialnih enačb."
   ]
  },
  {
   "cell_type": "markdown",
   "metadata": {},
   "source": [
    "Najprej potrebujemo najvišjo točko meta."
   ]
  },
  {
   "cell_type": "code",
   "execution_count": 18,
   "metadata": {},
   "outputs": [
    {
     "data": {
      "image/png": "[encoded data removed]",
      "text/latex": [
       "$$1.0583286657057684$$"
      ],
      "text/plain": [
       "1.0583286657057684"
      ]
     },
     "execution_count": 18,
     "metadata": {},
     "output_type": "execute_result"
    }
   ],
   "source": [
    "max_y = max(y)\n",
    "max_y"
   ]
  },
  {
   "cell_type": "code",
   "execution_count": 19,
   "metadata": {},
   "outputs": [
    {
     "data": {
      "image/png": "[encoded data removed]",
      "text/latex": [
       "$$32$$"
      ],
      "text/plain": [
       "32"
      ]
     },
     "execution_count": 19,
     "metadata": {},
     "output_type": "execute_result"
    }
   ],
   "source": [
    "# Poiščemo indeks najvišje točke.\n",
    "indeks = y.index(max_y)\n",
    "indeks\n"
   ]
  },
  {
   "cell_type": "code",
   "execution_count": 20,
   "metadata": {},
   "outputs": [
    {
     "data": {
      "image/png": "[encoded data removed]",
      "text/latex": [
       "$$89.40573043728297$$"
      ],
      "text/plain": [
       "89.40573043728297"
      ]
     },
     "execution_count": 20,
     "metadata": {},
     "output_type": "execute_result"
    }
   ],
   "source": [
    "# Poiščemo še x koordinato najvišje točke.\n",
    "x_hmax = x[32]\n",
    "x_hmax"
   ]
  },
  {
   "cell_type": "code",
   "execution_count": 21,
   "metadata": {},
   "outputs": [
    {
     "name": "stdout",
     "output_type": "stream",
     "text": [
      "[117.49891428  41.72206143]\n"
     ]
    }
   ],
   "source": [
    "# Izračunamo koeficiente linearne funkcije.\n",
    "koef_123 = np.polyfit(tN, x, deg=1)\n",
    "koef_123_1 = koef_123[0]\n",
    "koef_123_2 = koef_123[1]\n",
    "print(koef_123)"
   ]
  },
  {
   "cell_type": "code",
   "execution_count": 22,
   "metadata": {},
   "outputs": [],
   "source": [
    "# Simbolično prikažemo funkcijo.\n",
    "x_1, t = sym.symbols(\"x_1, t\")\n",
    "func = sym.Eq(x_1, koef_123_1*t + koef_123_2)\n"
   ]
  },
  {
   "cell_type": "markdown",
   "metadata": {},
   "source": [
    "$$x{=117.498914284591t+41.7220614322062 }$$"
   ]
  },
  {
   "cell_type": "code",
   "execution_count": 23,
   "metadata": {},
   "outputs": [
    {
     "data": {
      "text/plain": [
       "poly1d([117.49891428,  41.72206143])"
      ]
     },
     "execution_count": 23,
     "metadata": {},
     "output_type": "execute_result"
    }
   ],
   "source": [
    "# Imamo koeficiente in ustvarimo objekt polinom.\n",
    "polinom = np.poly1d(koef_123)\n",
    "polinom"
   ]
  },
  {
   "cell_type": "code",
   "execution_count": 24,
   "metadata": {},
   "outputs": [
    {
     "data": {
      "text/plain": [
       "<matplotlib.legend.Legend at 0x18183ea5518>"
      ]
     },
     "execution_count": 24,
     "metadata": {},
     "output_type": "execute_result"
    },
    {
     "data": {
      "image/png": "[encoded data removed]",
      "text/plain": [
       "<Figure size 936x504 with 1 Axes>"
      ]
     },
     "metadata": {
      "needs_background": "light"
     },
     "output_type": "display_data"
    }
   ],
   "source": [
    "# Graf lege x v odvisnosti od časa t\n",
    "plt.figure(figsize=(13,7))\n",
    "plt.plot(tN, polinom(tN), \"b\", label = \"Aproksimacija z linearno funkcijo\")\n",
    "plt.plot(tN, x, \".\", label=\"x točke\")\n",
    "plt.axhline(x_hmax, color= \"r\", label = \"x najvišje točke meta\")\n",
    "plt.title(\"Funkcija x(t)\")\n",
    "plt.xlabel(\"Čas meta  t[s]\")\n",
    "plt.ylabel(\"Dolžina meta  x [m]\")\n",
    "plt.legend()\n",
    "\n",
    "\n"
   ]
  },
  {
   "cell_type": "markdown",
   "metadata": {},
   "source": [
    "Definirajmo nas sistem v matricni obliki da ga bomo lahko resili.\n",
    "\n",
    "$$\n",
    "\\begin{bmatrix}\n",
    "117.50 & 1 \\\\\n",
    "0 & 1\n",
    "\\end{bmatrix} \n",
    "\\begin{bmatrix}\n",
    "y \\\\\n",
    "x\n",
    "\\end{bmatrix} \n",
    "=\n",
    "\\begin{bmatrix}\n",
    "41.72 \\\\\n",
    "89.41\n",
    "\\end{bmatrix} \n",
    "$$\n",
    "\n"
   ]
  },
  {
   "cell_type": "code",
   "execution_count": 25,
   "metadata": {},
   "outputs": [
    {
     "name": "stdout",
     "output_type": "stream",
     "text": [
      "[[117.49891428   1.        ]\n",
      " [  0.           1.        ]]\n",
      "[41.72206143 89.40573044]\n"
     ]
    }
   ],
   "source": [
    "# Zapišemo sistem linearnih enačb\n",
    "\n",
    "A = np.array([[koef_123_1, 1],\n",
    "              [0, 1]])\n",
    "\n",
    "b = np.array([koef_123_2, x_hmax])\n",
    "print(A)\n",
    "print(b)"
   ]
  },
  {
   "cell_type": "code",
   "execution_count": 26,
   "metadata": {},
   "outputs": [
    {
     "data": {
      "text/plain": [
       "array([-0.40582221, 89.40573044])"
      ]
     },
     "execution_count": 26,
     "metadata": {},
     "output_type": "execute_result"
    }
   ],
   "source": [
    "# Izračunamo presečišče.\n",
    "\n",
    "presecisce = np.linalg.solve(A, b)\n",
    "presecisce"
   ]
  },
  {
   "cell_type": "code",
   "execution_count": 27,
   "metadata": {},
   "outputs": [],
   "source": [
    "# Definiramo x koordinate funkcije f(x).\n",
    "\n",
    "x_meta = polinom(tN)\n"
   ]
  },
  {
   "cell_type": "code",
   "execution_count": 28,
   "metadata": {},
   "outputs": [
    {
     "name": "stdout",
     "output_type": "stream",
     "text": [
      "Korak časa : 0.01 s.\n"
     ]
    }
   ],
   "source": [
    "# Določimo korak časa\n",
    "\n",
    "h_cas = tN[2] - tN[1]\n",
    "print(f\"Korak časa : {h_cas} s.\")"
   ]
  },
  {
   "cell_type": "code",
   "execution_count": 29,
   "metadata": {
    "scrolled": false
   },
   "outputs": [
    {
     "data": {
      "text/plain": [
       "array([117.49891428, 117.49891428, 117.49891428, 117.49891428,\n",
       "       117.49891428, 117.49891428, 117.49891428, 117.49891428,\n",
       "       117.49891428, 117.49891428, 117.49891428, 117.49891428,\n",
       "       117.49891428, 117.49891428, 117.49891428, 117.49891428,\n",
       "       117.49891428, 117.49891428, 117.49891428, 117.49891428,\n",
       "       117.49891428, 117.49891428, 117.49891428, 117.49891428,\n",
       "       117.49891428, 117.49891428, 117.49891428, 117.49891428,\n",
       "       117.49891428, 117.49891428, 117.49891428, 117.49891428,\n",
       "       117.49891428, 117.49891428, 117.49891428, 117.49891428,\n",
       "       117.49891428, 117.49891428, 117.49891428, 117.49891428,\n",
       "       117.49891428, 117.49891428, 117.49891428, 117.49891428,\n",
       "       117.49891428, 117.49891428, 117.49891428, 117.49891428,\n",
       "       117.49891428, 117.49891428, 117.49891428, 117.49891428,\n",
       "       117.49891428, 117.49891428, 117.49891428, 117.49891428,\n",
       "       117.49891428, 117.49891428, 117.49891428, 117.49891428,\n",
       "       117.49891428, 117.49891428, 117.49891428, 117.49891428,\n",
       "       117.49891428, 117.49891428, 117.49891428, 117.49891428,\n",
       "       117.49891428, 117.49891428, 117.49891428, 117.49891428,\n",
       "       117.49891428, 117.49891428, 117.49891428, 117.49891428,\n",
       "       117.49891428, 117.49891428, 117.49891428, 117.49891428,\n",
       "       117.49891428, 117.49891428, 117.49891428, 117.49891428,\n",
       "       117.49891428, 117.49891428])"
      ]
     },
     "execution_count": 29,
     "metadata": {},
     "output_type": "execute_result"
    }
   ],
   "source": [
    "# Hitrost x je odvod funkcije po času.\n",
    "\n",
    "odvod_s_t = np.gradient(x_meta, h_cas)\n",
    "odvod_s_t"
   ]
  },
  {
   "cell_type": "code",
   "execution_count": 30,
   "metadata": {},
   "outputs": [
    {
     "name": "stdout",
     "output_type": "stream",
     "text": [
      " Kot pri y max je: -0.03554 stopinj.\n"
     ]
    }
   ],
   "source": [
    "# Izračun kota pri y max\n",
    "\n",
    "kot = np.tan(vxN[32]/vyN[32])*np.pi/180\n",
    "print(f\" Kot pri y max je: {kot:5.4} stopinj.\")"
   ]
  },
  {
   "cell_type": "code",
   "execution_count": 31,
   "metadata": {},
   "outputs": [
    {
     "name": "stdout",
     "output_type": "stream",
     "text": [
      "Hitrost po y koordinati : -0.073 m/s\n"
     ]
    }
   ],
   "source": [
    "# Hitrost po koordinatah\n",
    "\n",
    "VX = odvod_s_t[1]\n",
    "VY = VX*np.tan(kot*np.pi/180)\n",
    "print(f\"Hitrost po y koordinati : {VY:4.2} m/s\")"
   ]
  },
  {
   "cell_type": "code",
   "execution_count": 32,
   "metadata": {},
   "outputs": [
    {
     "name": "stdout",
     "output_type": "stream",
     "text": [
      "Skupna hitrost: 117.5 m/s\n"
     ]
    }
   ],
   "source": [
    "# Izračunamo skupno hitrost\n",
    "\n",
    "iskana_hitrost = np.sqrt(VX**2 + VY**2)\n",
    "print(f\"Skupna hitrost: {round(iskana_hitrost,2)} m/s\")"
   ]
  },
  {
   "cell_type": "code",
   "execution_count": 33,
   "metadata": {},
   "outputs": [
    {
     "name": "stdout",
     "output_type": "stream",
     "text": [
      "Izračunana hitrost: 118.53 m/s\n"
     ]
    }
   ],
   "source": [
    "# Izračunamo hitrost, ki smo jo izračunali z diferencialnimi enačbami\n",
    "\n",
    "izračunana_hitrost = np.sqrt(vxN[32]**2 + vyN[32]**2)\n",
    "print(f\"Izračunana hitrost: {round(izračunana_hitrost,2)} m/s\")"
   ]
  },
  {
   "cell_type": "code",
   "execution_count": 34,
   "metadata": {},
   "outputs": [
    {
     "name": "stdout",
     "output_type": "stream",
     "text": [
      "Razlika med izračunano hitrostjo in hitrostjo pridobljeno z sistemom lin. enačb je : 1.033 m/s.\n"
     ]
    }
   ],
   "source": [
    "# Preverimo koliko se izračunani hitrosti razlikujeta\n",
    "\n",
    "razlika_hitrosti = izračunana_hitrost - iskana_hitrost\n",
    "print(f\"Razlika med izračunano hitrostjo in hitrostjo pridobljeno z sistemom lin. enačb je : {razlika_hitrosti:5.4} m/s.\")"
   ]
  },
  {
   "cell_type": "code",
   "execution_count": 35,
   "metadata": {},
   "outputs": [
    {
     "name": "stdout",
     "output_type": "stream",
     "text": [
      "Odstopanje hitrosti: 0.872 %.\n"
     ]
    }
   ],
   "source": [
    "procent_razlike = (100*razlika_hitrosti)/izračunana_hitrost\n",
    "print(f\"Odstopanje hitrosti: {procent_razlike:4.3} %.\")"
   ]
  },
  {
   "cell_type": "markdown",
   "metadata": {},
   "source": [
    "Vidimo da se hitrosti razlikujejo za manj kot procent, zato se mi zdi rešitev smiselna glede na to, da smo jo aproksimirali z linearno funkcijo."
   ]
  },
  {
   "cell_type": "markdown",
   "metadata": {},
   "source": [
    "# Dodatki projektni nalogi "
   ]
  },
  {
   "cell_type": "markdown",
   "metadata": {},
   "source": [
    "## Aproximacija"
   ]
  },
  {
   "cell_type": "markdown",
   "metadata": {},
   "source": [
    "Kot dodatek projektni nalogi sem izbral aproksimacijo z uporabo CSV (comma separated values). Podatke sem uvozil z uporabo CSV-ja. Podatke sem pridobil na internetu. Dodal sem jih v mapo ter jih malce skrajšal nato pa sem jih aproksimiral z linearno funkcijo, da lahko vidimo trend, ki ga vrednost zlata ubira."
   ]
  },
  {
   "cell_type": "code",
   "execution_count": 36,
   "metadata": {},
   "outputs": [],
   "source": [
    "# Uvozimo ter uredimo podatke\n",
    "\n",
    "import csv\n",
    "aprox_x = []\n",
    "aprox_y = []\n",
    "with open('annual_csv.csv', newline='') as csvfile:\n",
    "    spamreader = csv.reader(csvfile, delimiter=',')\n",
    "    for row in spamreader:\n",
    "        aprox_x.append(int(row[0].split('-')[0]))\n",
    "        aprox_y.append(float(row[1]))"
   ]
  },
  {
   "cell_type": "code",
   "execution_count": 37,
   "metadata": {},
   "outputs": [],
   "source": [
    "# Aproksimiramo podatke\n",
    "\n",
    "koelif = np.polyfit(aprox_x, aprox_y, deg=1)\n",
    "polinom_fit = np.poly1d(koelif)"
   ]
  },
  {
   "cell_type": "code",
   "execution_count": 38,
   "metadata": {},
   "outputs": [
    {
     "data": {
      "image/png": "[encoded data removed]",
      "text/plain": [
       "<Figure size 936x504 with 1 Axes>"
      ]
     },
     "metadata": {
      "needs_background": "light"
     },
     "output_type": "display_data"
    }
   ],
   "source": [
    "# Izrišemo graf\n",
    "\n",
    "letnice = np.linspace(1995, 2025, 500)\n",
    "plt.figure(figsize=(13,7))\n",
    "plt.plot(letnice, polinom_fit(letnice), label=\"linearna Aproksimacija\",color='r')\n",
    "plt.scatter(aprox_x, aprox_y, label=\"Cene\")\n",
    "plt.title(\"Vrednost zlata po letnicah\")\n",
    "plt.ylabel('vrednost [$]')\n",
    "plt.xlabel('čas [leto]')\n",
    "plt.grid()\n",
    "plt.legend()\n",
    "plt.show()"
   ]
  },
  {
   "cell_type": "markdown",
   "metadata": {},
   "source": [
    "## Uporabniški vmesnik\n",
    "\n",
    "V primeru, da analiziramo pojav za neko podjetje je zelo primerno, da se naredi GUI (graphical user interface) s katerim lahko manj izskušeni inžinerji uporavljajo naše izračune in logiko analize za generične primere sorodnih tematik. Uporabljal bom uporabniški vmesnik, ki ga ponuja knjižnica matplotlib.\n",
    "\n",
    "V našem primeru sem ustvaril GUI v katerem lahko uporabnik spreminja parametre poševnega meta z upoštevanim primerom v katerem lahko spreminja začetno $v_x$ in $v_y$ hitrost... Uporabniški vmesnik tudi prikaže maksimalen doseg po $y$ in $x$ smeri kakor tudi prikaze čas potovanja.\n",
    "\n",
    "V istem direktoriju se nahaja modul `GUI.py` v katerem sem vnesel primer uporabniškega vmesnika. Da lahko poženete uporabniški vmesnik je potrebno naložiti knjiznico `pyqtgraph`.\n",
    "\n",
    "<code style=\"text-align:center\">pip install pyqtgraph</code>\n",
    "\n",
    "Potem pa lahko poženete naslednjo vrstico, da se odpre uporabniški vmesnik."
   ]
  },
  {
   "cell_type": "markdown",
   "metadata": {},
   "source": [
    "Kodo za GUI sem našel na spletu, ter jo malce spremenil.\n",
    "\n",
    "<a href=\"https://stackoverflow.com/questions/42007434/slider-widget-for-pyqtgraph\">Koda za uporabniški vmesnik</a>\n",
    "\n",
    "Pomagal pa sem si še z:\n",
    "\n",
    "<a href=\"http://www.pyqtgraph.org/\">Pyqtgraph.org</a>"
   ]
  },
  {
   "cell_type": "code",
   "execution_count": 39,
   "metadata": {},
   "outputs": [
    {
     "ename": "SystemExit",
     "evalue": "0",
     "output_type": "error",
     "traceback": [
      "An exception has occurred, use %tb to see the full traceback.\n",
      "\u001b[1;31mSystemExit\u001b[0m\u001b[1;31m:\u001b[0m 0\n"
     ]
    },
    {
     "name": "stderr",
     "output_type": "stream",
     "text": [
      "C:\\ProgramData\\Anaconda3\\lib\\site-packages\\IPython\\core\\interactiveshell.py:2969: UserWarning: To exit: use 'exit', 'quit', or Ctrl-D.\n",
      "  warn(\"To exit: use 'exit', 'quit', or Ctrl-D.\", stacklevel=1)\n"
     ]
    }
   ],
   "source": [
    "import GUI\n",
    "GUI.main()"
   ]
  }
 ],
 "metadata": {
  "hide_input": false,
  "kernelspec": {
   "display_name": "Python 3",
   "language": "python",
   "name": "python3"
  },
  "language_info": {
   "codemirror_mode": {
    "name": "ipython",
    "version": 3
   },
   "file_extension": ".py",
   "mimetype": "text/x-python",
   "name": "python",
   "nbconvert_exporter": "python",
   "pygments_lexer": "ipython3",
   "version": "3.7.0"
  },
  "latex_envs": {
   "LaTeX_envs_menu_present": true,
   "autoclose": false,
   "autocomplete": false,
   "bibliofile": "biblio.bib",
   "cite_by": "apalike",
   "current_citInitial": 1,
   "eqLabelWithNumbers": false,
   "eqNumInitial": 1,
   "hotkeys": {
    "equation": "Ctrl-E",
    "itemize": "Ctrl-I"
   },
   "labels_anchors": false,
   "latex_user_defs": false,
   "report_style_numbering": false,
   "user_envs_cfg": false
  },
  "toc": {
   "base_numbering": 1,
   "nav_menu": {},
   "number_sections": true,
   "sideBar": true,
   "skip_h1_title": false,
   "title_cell": "Kazalo",
   "title_sidebar": "Kazalo",
   "toc_cell": true,
   "toc_position": {
    "height": "calc(100% - 180px)",
    "left": "10px",
    "top": "150px",
    "width": "268.4px"
   },
   "toc_section_display": true,
   "toc_window_display": true
  },
  "varInspector": {
   "cols": {
    "lenName": 16,
    "lenType": 16,
    "lenVar": 40
   },
   "kernels_config": {
    "python": {
     "delete_cmd_postfix": "",
     "delete_cmd_prefix": "del ",
     "library": "var_list.py",
     "varRefreshCmd": "print(var_dic_list())"
    },
    "r": {
     "delete_cmd_postfix": ") ",
     "delete_cmd_prefix": "rm(",
     "library": "var_list.r",
     "varRefreshCmd": "cat(var_dic_list()) "
    }
   },
   "types_to_exclude": [
    "module",
    "function",
    "builtin_function_or_method",
    "instance",
    "_Feature"
   ],
   "window_display": false
  }
 },
 "nbformat": 4,
 "nbformat_minor": 2
}
